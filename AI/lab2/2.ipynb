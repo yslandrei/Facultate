{
 "cells": [
  {
   "cell_type": "code",
   "execution_count": 21,
   "metadata": {},
   "outputs": [],
   "source": [
    "from PIL import Image, ImageFilter\n",
    "import glob, os\n",
    "\n",
    "directory = \"data/images/\""
   ]
  },
  {
   "cell_type": "markdown",
   "metadata": {},
   "source": [
    "I) sa se vizualizeze una din imagini"
   ]
  },
  {
   "cell_type": "code",
   "execution_count": 18,
   "metadata": {},
   "outputs": [],
   "source": [
    "with Image.open(directory + \"chatGPT.png\") as im:\n",
    "  im.show()"
   ]
  },
  {
   "cell_type": "markdown",
   "metadata": {},
   "source": [
    "II) daca imaginile nu aceeasi dimensiune, sa se redimensioneze toate la 128 x 128 pixeli si sa se vizualizeze imaginile intr-un cadru tabelar."
   ]
  },
  {
   "cell_type": "code",
   "execution_count": 19,
   "metadata": {},
   "outputs": [],
   "source": [
    "imaginile = os.listdir(directory)\n",
    "\n",
    "dimensiune_dorita = (128, 128)\n",
    "\n",
    "numar_coloane = 4\n",
    "\n",
    "numar_rinduri = len(imaginile) // numar_coloane\n",
    "if len(imaginile) % numar_coloane != 0:\n",
    "    numar_rinduri += 1\n",
    "\n",
    "inaltime_tabel = numar_rinduri * dimensiune_dorita[1]\n",
    "latime_tabel = numar_coloane * dimensiune_dorita[0]\n",
    "tabel_imagini = Image.new('RGB', (latime_tabel, inaltime_tabel), color='white')\n",
    "\n",
    "for i, imagine_fisier in enumerate(imaginile):\n",
    "    cale_imagine = os.path.join(directory, imagine_fisier)\n",
    "    imagine = Image.open(cale_imagine)\n",
    "    imagine_redimensionata = imagine.resize(dimensiune_dorita)\n",
    "    \n",
    "    pozitie_x = (i % numar_coloane) * dimensiune_dorita[0]\n",
    "    pozitie_y = (i // numar_coloane) * dimensiune_dorita[1]\n",
    "    \n",
    "    tabel_imagini.paste(imagine_redimensionata, (pozitie_x, pozitie_y))\n",
    "\n",
    "tabel_imagini.show()\n"
   ]
  },
  {
   "cell_type": "markdown",
   "metadata": {},
   "source": [
    "III) sa se transforme imaginile in format gray-levels si sa se vizualizeze"
   ]
  },
  {
   "cell_type": "code",
   "execution_count": 20,
   "metadata": {},
   "outputs": [],
   "source": [
    "for infile in glob.glob(\"data/images/*\"):\n",
    "    file, ext = os.path.splitext(infile)\n",
    "    with Image.open(infile) as im:\n",
    "        im.convert(mode='L').show()"
   ]
  },
  {
   "cell_type": "markdown",
   "metadata": {},
   "source": [
    "IV) sa se blureze o imagine si sa se afiseze in format \"before-after\""
   ]
  },
  {
   "cell_type": "code",
   "execution_count": null,
   "metadata": {},
   "outputs": [],
   "source": [
    "for infile in glob.glob(\"data/images/*\"):\n",
    "    file, ext = os.path.splitext(infile)\n",
    "    with Image.open(infile) as im:\n",
    "        im_blur = im.filter(ImageFilter.BLUR)\n",
    "        before_after = Image.new('RGB', (im.width * 2, im.height))\n",
    "        before_after.paste(im, (0, 0))\n",
    "        before_after.paste(im_blur, (im.width, 0))\n",
    "        before_after.show()"
   ]
  },
  {
   "cell_type": "markdown",
   "metadata": {},
   "source": [
    "V) sa se identifice muchiile ontr-o imagine si sa se afiseze in format \"before-after\""
   ]
  },
  {
   "cell_type": "code",
   "execution_count": null,
   "metadata": {},
   "outputs": [],
   "source": [
    "for infile in glob.glob(\"data/images/*\"):\n",
    "    file, ext = os.path.splitext(infile)\n",
    "    with Image.open(infile) as im:\n",
    "        im_gri = im.convert(\"L\")\n",
    "        im_contour = im_gri.filter(ImageFilter.CONTOUR)\n",
    "        before_after = Image.new('RGB', (im.width * 2, im.height))\n",
    "        before_after.paste(im, (0, 0))\n",
    "        before_after.paste(im_contour, (im.width, 0))\n",
    "        before_after.show()"
   ]
  }
 ],
 "metadata": {
  "kernelspec": {
   "display_name": "Python 3",
   "language": "python",
   "name": "python3"
  },
  "language_info": {
   "codemirror_mode": {
    "name": "ipython",
    "version": 3
   },
   "file_extension": ".py",
   "mimetype": "text/x-python",
   "name": "python",
   "nbconvert_exporter": "python",
   "pygments_lexer": "ipython3",
   "version": "3.12.2"
  }
 },
 "nbformat": 4,
 "nbformat_minor": 2
}
