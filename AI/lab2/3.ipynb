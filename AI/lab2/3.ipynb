{
 "cells": [
  {
   "cell_type": "code",
   "execution_count": 20,
   "metadata": {},
   "outputs": [
    {
     "name": "stdout",
     "output_type": "stream",
     "text": [
      "Mesaj de informare \n",
      "Cursul și laboratoarele de Inteligență Artificială vor fi o \n",
      "provocare pentru toți Suntem convinși că veți realiza proiecte \n",
      "foarte interesante Vă încurajăm să adresați întrebări atunci \n",
      "când ceva nu e clar atât în mod live cât și folosind platforma \n",
      "Teams canalul general \n",
      "Dacă ați citit până aici vă rugăm să lăsați un mesaj pe canalul \n",
      "general cu textul Am citit textul pentru problema  \n",
      "Mesaj de informare generat de ChatGPT\n",
      "Stimați cursanți\n",
      "Suntem încântați să vă avem în echipa noastră pentru Cursul și \n",
      "laboratoarele de Inteligență Artificială Această experiență va \n",
      "fi o adevărată provocare dar suntem convinși că veți realiza \n",
      "proiecte extrem de interesante\n",
      "Vă încurajăm să fiți activi și să adresați întrebări atunci când \n",
      "ceva nu este clar Fie că este vorba de o discuție în timp real \n",
      "sau prin intermediul platformei Teams canalul general suntem \n",
      "aici să vă sprijinim\n",
      "Succes și să înceapă aventura AI\n",
      "Cu considerație Echipa de Inteligență Artificială\n"
     ]
    }
   ],
   "source": [
    "import nltk\n",
    "\n",
    "with open(\"data/texts.txt\", \"r\", encoding=\"utf-8\") as file:\n",
    "    text = file.read()\n",
    "\n",
    "alpha_chars = \"\"\n",
    "for char in text:\n",
    "    if char.isalpha() or char == \" \" or char == '\\n' or char == '.':\n",
    "        alpha_chars += char\n",
    "text = alpha_chars\n",
    "\n",
    "print(text)\n"
   ]
  },
  {
   "cell_type": "markdown",
   "metadata": {},
   "source": [
    "I) numarul de propozitii din text;"
   ]
  },
  {
   "cell_type": "code",
   "execution_count": 21,
   "metadata": {},
   "outputs": [
    {
     "name": "stdout",
     "output_type": "stream",
     "text": [
      "Numărul de propoziții din text: 1\n"
     ]
    }
   ],
   "source": [
    "propozitii = nltk.tokenize.sent_tokenize(text)\n",
    "print(\"Numărul de propoziții din text:\", len(propozitii))"
   ]
  },
  {
   "cell_type": "markdown",
   "metadata": {},
   "source": [
    "II) numarul de cuvinte din text"
   ]
  },
  {
   "cell_type": "code",
   "execution_count": 6,
   "metadata": {},
   "outputs": [
    {
     "name": "stdout",
     "output_type": "stream",
     "text": [
      "Numărul de cuvinte din text: 182\n"
     ]
    }
   ],
   "source": [
    "cuvinte = nltk.tokenize.word_tokenize(text)\n",
    "print(\"Numărul de cuvinte din text:\", len(cuvinte))"
   ]
  },
  {
   "cell_type": "markdown",
   "metadata": {},
   "source": [
    "III) numarul de cuvinte diferite din text"
   ]
  },
  {
   "cell_type": "code",
   "execution_count": 7,
   "metadata": {},
   "outputs": [
    {
     "name": "stdout",
     "output_type": "stream",
     "text": [
      "Numărul de cuvinte din text: 99\n"
     ]
    }
   ],
   "source": [
    "cuvinte_diferite = nltk.probability.FreqDist(cuvinte)\n",
    "print(\"Numărul de cuvinte din text:\", len(cuvinte_diferite))"
   ]
  },
  {
   "cell_type": "markdown",
   "metadata": {},
   "source": [
    "IV) cel mai scurt si cel mai lung cuvant (cuvinte)"
   ]
  },
  {
   "cell_type": "code",
   "execution_count": 8,
   "metadata": {},
   "outputs": [
    {
     "name": "stdout",
     "output_type": "stream",
     "text": [
      "Cel mai scurt cuvânt: :\n",
      "Cel mai lung cuvânt: laboratoarele\n"
     ]
    }
   ],
   "source": [
    "cel_mai_scurt_cuvant = min(cuvinte, key=len)\n",
    "cel_mai_lung_cuvant = max(cuvinte, key=len)\n",
    "\n",
    "print(\"Cel mai scurt cuvânt:\", cel_mai_scurt_cuvant)\n",
    "print(\"Cel mai lung cuvânt:\", cel_mai_lung_cuvant)"
   ]
  },
  {
   "cell_type": "markdown",
   "metadata": {},
   "source": [
    "V) textul fara diacritice"
   ]
  },
  {
   "cell_type": "code",
   "execution_count": 9,
   "metadata": {},
   "outputs": [
    {
     "name": "stdout",
     "output_type": "stream",
     "text": [
      "Textul fără diacritice:\n",
      "Mesaj de informare: \n",
      "Cursul si laboratoarele de Inteligenta Artificiala vor fi o \n",
      "provocare pentru toti. Suntem convinsi ca veti realiza proiecte \n",
      "foarte interesante. Va incurajam sa adresati intrebari atunci \n",
      "cand ceva nu e clar, atat in mod live, cat si folosind platforma \n",
      "Teams, canalul \"general\". \n",
      "Daca ati citit pana aici, va rugam sa lasati un mesaj pe canalul \n",
      "general cu textul \"Am citit textul pentru problema 3\". \n",
      "Mesaj de informare generat de ChatGPT:\n",
      "Stimati cursanti,\n",
      "Suntem incantati sa va avem in echipa noastra pentru Cursul si \n",
      "laboratoarele de Inteligenta Artificiala. Aceasta experienta va \n",
      "fi o adevarata provocare, dar suntem convinsi ca veti realiza \n",
      "proiecte extrem de interesante.\n",
      "Va incurajam sa fiti activi si sa adresati intrebari atunci cand \n",
      "ceva nu este clar. Fie ca este vorba de o discutie in timp real \n",
      "sau prin intermediul platformei Teams, canalul \"general\", suntem \n",
      "aici sa va sprijinim.\n",
      "Succes si sa inceapa aventura AI!\n",
      "Cu consideratie, Echipa de Inteligenta Artificiala\n"
     ]
    }
   ],
   "source": [
    "from unidecode import unidecode\n",
    "print(\"Textul fără diacritice:\")\n",
    "print(unidecode(text))"
   ]
  },
  {
   "cell_type": "markdown",
   "metadata": {},
   "source": [
    "VI) sinonimele celui mai lung cuvant din text"
   ]
  },
  {
   "cell_type": "code",
   "execution_count": 16,
   "metadata": {},
   "outputs": [
    {
     "name": "stdout",
     "output_type": "stream",
     "text": [
      "Search for all noun synsets that contain word/literal 'cal'\n",
      "Synset(id='ENG30-03624767-n', literals=['cal'], definition='piesă la jocul de șah de forma unui cap de cal')\n",
      "Synset(id='ENG30-07666406-n', literals=['carne_de_cal'], definition='carne de cal')\n",
      "Synset(id='ENG30-02377703-n', literals=['cal_de_călărie'], definition='Cal folosit numai pentru călărie.')\n",
      "Synset(id='ENG30-01456756-n', literals=['căluț', 'căluț_de_mare', 'cal_de_mare'], definition='Pește teleostean marin cu corpul de 8-10 cm, lipsit de înotătoare codală și cu capul asemănător cu cel al calului')\n",
      "Synset(id='ENG30-03538037-n', literals=['cal'], definition='Nume dat unor aparate sau piese asemănătoare cu un cal :')\n",
      "Synset(id='ENG30-02376918-n', literals=['cal'], definition='Masculul speciei Equus caballus')\n",
      "Synset(id='ENG30-02374451-n', literals=['cabalină', 'cal'], definition='Animal domestic erbivor, cu copita nedespicată, folosit la călărie și la tracțiune')\n",
      "Synset(id='ENG30-02379908-n', literals=['cal_arab'], definition='cal de rasă pentru călărie și tracțiune ușoară, originar din Arabia.')\n",
      "Synset(id='ENG30-02378625-n', literals=['cal_de_luptă'], definition='în trecut, cal puternic, folosit în bătălii')\n",
      "Synset(id='ENG30-02386496-n', literals=['cal_de_tracțiune'], definition='cal adaptat pentru a tracta încărcături grele')\n",
      "Synset(id='ENG30-02387887-n', literals=['cal_de_tracțiune'], definition='cal puternic folosit pentru tractarea atelajelor grele')\n",
      "Synset(id='ENG30-02386310-n', literals=['cal_de_povară'], definition='cal folosit la arat, la tras și la alte munci grele')\n",
      "Synset(id='ENG30-02377388-n', literals=['cal'], definition='(prin restringere) armăsar castrat')\n",
      "Synset(id='ENG30-02382948-n', literals=['cal_de_curse'], definition='cal crescut pentru curse')\n",
      "Synset(id='ENG30-03585778-n', literals=['cal_de_fier'], definition='termen vechi, care desemna locomotiva')\n",
      "Synset(id='ENG30-13645010-n', literals=['cal_putere', 'cal'], definition='unitate de măsură pentru putere, egală cu 75 de kilogrammetri pe secundă, folosită pentru a exprima puterea unui motor')\n",
      "Synset(id='ENG30-13645010-n', literals=['cal_putere', 'cal'], definition='unitate de măsură pentru putere, egală cu 75 de kilogrammetri pe secundă, folosită pentru a exprima puterea unui motor')\n",
      "Synset(id='ENG30-02389128-n', literals=['cal_bălan'], definition='cal de culoare cafenie sau aurie cu coama și coada de culoare albă')\n",
      "Synset(id='ENG30-02381460-n', literals=['cal_sălbatic'], definition='cal nedomesticit')\n",
      "Synset(id='ENG30-05260380-n', literals=['coadă_de_cal'], definition='Pieptănăură cu părul prins la spate, care atârnă')\n",
      "Synset(id='ENG30-02386224-n', literals=['cal_de_povară'], definition='rasă de cal solid folosit la diferite munci')\n",
      "Synset(id='ENG30-01902274-n', literals=['spinare_de_cal'], definition='Regiune dorsală a corpului cabalin')\n",
      "Synset(id='ENG30-02381004-n', literals=['cal_murg', 'murg'], definition='Cal care are părul de culoare castanie-închisă.')\n",
      "Synset(id='ENG30-02387254-n', literals=['cal_de_ham', 'cal_de_tracțiune'], definition='cal folosit la muncă grea')\n",
      "Synset(id='ENG30-02387254-n', literals=['cal_de_ham', 'cal_de_tracțiune'], definition='cal folosit la muncă grea')\n",
      "Synset(id='ENG30-13272860-n', literals=['cal_de_dar'], definition='dar care trebuie acceptat fără critici')\n",
      "Synset(id='ENG30-02386014-n', literals=['cal_de_tracțiune'], definition='Cal utilizat pentru tracțiunea vehiculelor')\n",
      "Synset(id='ENG30-04124202-n', literals=['pătură_de_cal'], definition='Pătură care se așează sub șaua unui cal')\n",
      "Synset(id='ENG30-02378415-n', literals=['cal_de_război'], definition='cal folosit în război')\n"
     ]
    }
   ],
   "source": [
    "import rowordnet as rwn\n",
    "from rowordnet import Synset\n",
    "wn = rwn.RoWordNet()\n",
    "word = 'cal'\n",
    "print(\"Search for all noun synsets that contain word/literal '{}'\".format(word))    \n",
    "synset_ids = wn.synsets(literal=word, pos=Synset.Pos.NOUN)\n",
    "for synset_id in synset_ids:\n",
    "    print(wn.synset(synset_id))"
   ]
  }
 ],
 "metadata": {
  "kernelspec": {
   "display_name": "Python 3",
   "language": "python",
   "name": "python3"
  },
  "language_info": {
   "codemirror_mode": {
    "name": "ipython",
    "version": 3
   },
   "file_extension": ".py",
   "mimetype": "text/x-python",
   "name": "python",
   "nbconvert_exporter": "python",
   "pygments_lexer": "ipython3",
   "version": "3.11.0"
  }
 },
 "nbformat": 4,
 "nbformat_minor": 2
}
