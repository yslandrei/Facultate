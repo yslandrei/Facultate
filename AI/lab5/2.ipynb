{
 "cells": [
  {
   "cell_type": "code",
   "execution_count": 1,
   "metadata": {},
   "outputs": [],
   "source": [
    "import csv\n",
    "import os\n",
    "import matplotlib.pyplot as plt\n",
    "import random \n",
    "import numpy as np\n",
    "from sklearn import linear_model"
   ]
  },
  {
   "cell_type": "markdown",
   "metadata": {},
   "source": [
    "Family + Freedom => Happiness Score"
   ]
  },
  {
   "cell_type": "code",
   "execution_count": 2,
   "metadata": {},
   "outputs": [],
   "source": [
    "def loadData(fileName, inputVariabName1, inputVariabName2, outputVariabName):\n",
    "    data = []\n",
    "    dataNames = []\n",
    "    with open(fileName) as csv_file:\n",
    "        csv_reader = csv.reader(csv_file, delimiter=',')\n",
    "        line_count = 0\n",
    "        for row in csv_reader:\n",
    "            if line_count == 0:\n",
    "                dataNames = row\n",
    "            else:\n",
    "                data.append(row)\n",
    "            line_count += 1\n",
    "    selectedInput1 = dataNames.index(inputVariabName1)\n",
    "    selectedInput2 = dataNames.index(inputVariabName2)\n",
    "    selectedOutput = dataNames.index(outputVariabName)\n",
    "    inputs = []\n",
    "    outputs = []\n",
    "    for i in range(len(data)):\n",
    "      # if data[i][selectedVariable] == '' or data[i][selectedOutput] == '':\n",
    "      #   continue\n",
    "      inputs.append([float(data[i][selectedInput1]), float(data[i][selectedInput2])])\n",
    "      outputs.append(float(data[i][selectedOutput]))\n",
    "    \n",
    "    return inputs, outputs\n",
    "\n",
    "version = 'v2'\n",
    "crtDir =  os.getcwd()\n",
    "filePath = os.path.join(crtDir, 'data', version + '_world-happiness-report-2017.csv')\n",
    "\n",
    "inputs, outputs = loadData(filePath, 'Family', 'Freedom', 'Score')\n",
    "# split data into training data (80%) and testing data (20%)\n",
    "indexes = [i for i in range(len(inputs))]\n",
    "\n",
    "np.random.seed(5)\n",
    "trainSample = np.random.choice(indexes, int(0.8 * len(inputs)), replace = False)\n",
    "# trainSample = random.sample(indexes, int(0.8 * len(inputs)))\n",
    "validationSample = [i for i in indexes  if not i in trainSample]\n",
    "\n",
    "trainInputs = [inputs[i] for i in trainSample]\n",
    "trainOutputs = [outputs[i] for i in trainSample]\n",
    "validationInputs = [inputs[i] for i in validationSample]\n",
    "validationOutputs = [outputs[i] for i in validationSample]"
   ]
  },
  {
   "cell_type": "markdown",
   "metadata": {},
   "source": [
    "training with sklearn"
   ]
  },
  {
   "cell_type": "code",
   "execution_count": 12,
   "metadata": {},
   "outputs": [],
   "source": [
    "xx = [[el[0], el[1]] for el in trainInputs]\n",
    "regressor = linear_model.LinearRegression()\n",
    "regressor.fit(xx, trainOutputs)\n",
    "computedValidationOutputs = regressor.predict([[x[0], x[1]] for x in validationInputs])"
   ]
  },
  {
   "cell_type": "markdown",
   "metadata": {},
   "source": [
    "training manually"
   ]
  },
  {
   "cell_type": "code",
   "execution_count": 9,
   "metadata": {},
   "outputs": [],
   "source": [
    "class ManualLinearBivariateRegression:\n",
    "    def __init__(self):\n",
    "        self.w0 = 0.0\n",
    "        self.w1 = 0.0\n",
    "        self.intercept = 0.0\n",
    "    \n",
    "    @staticmethod\n",
    "    def transpose(X):\n",
    "        return [[X[j][i] for j in range(len(X))] for i in range(len(X[0]))]\n",
    "\n",
    "    @staticmethod\n",
    "    def inverse_2_2(matrix):\n",
    "        a, b, c, d = matrix[0][0], matrix[0][1], matrix[1][0], matrix[1][1]\n",
    "        det = a * d - b * c\n",
    "        return [[d / det, -b / det], [-c / det, a / det]]\n",
    "\n",
    "    @staticmethod\n",
    "    def dot_product_1(xt, X):\n",
    "        xtx = [[0, 0], [0, 0]]\n",
    "        for i in range(len(xt)):\n",
    "            for k in range(len(X[0])):\n",
    "                xtx[i][k] = sum([xt[i][j] * X[j][k] for j in range(len(xt[i]))])\n",
    "\n",
    "        return xtx\n",
    "    \n",
    "    @staticmethod\n",
    "    def dot_product_2(xtx_inverse, xt):\n",
    "        xtx_inverse_xt = [[0] * len(xt[0]), [0] * len(xt[0])]\n",
    "        for i in range(len(xtx_inverse)):\n",
    "            for k in range(len(xt[0])):\n",
    "                xtx_inverse_xt[i][k] = sum([xtx_inverse[i][j] * xt[j][k] for j in range(len(xtx_inverse[i]))])\n",
    "        \n",
    "        return xtx_inverse_xt\n",
    "    \n",
    "    def dot_product_3(self, xtx_inverse_xt, Y):\n",
    "        xtx_inverse_xt_y = [0, 0]\n",
    "        for i in range(len(xtx_inverse_xt)):\n",
    "            xtx_inverse_xt_y[i] = sum([xtx_inverse_xt[i][j] * Y[j] for j in range(len(xtx_inverse_xt[i]))])\n",
    "        \n",
    "        return xtx_inverse_xt_y\n",
    "\n",
    "    def fit(self, X, Y):\n",
    "        xt = self.transpose(X)\n",
    "        xtx = self.dot_product_1(xt, X)\n",
    "        xtx_inverse = self.inverse_2_2(xtx)\n",
    "        xtx_inverse_xt = self.dot_product_2(xtx_inverse, xt)\n",
    "        xtx_inverse_xt_y = self.dot_product_3(xtx_inverse_xt, Y)\n",
    "        self.w0 = xtx_inverse_xt_y[0]\n",
    "        self.w1 = xtx_inverse_xt_y[1]\n",
    "        self.intercept = (sum(Y) - self.w0 * sum([row[0] for row in X]) - self.w1 * sum([row[1] for row in X])) / len(Y)\n",
    "\n",
    "    def predict(self, X):\n",
    "        return [self.w0 * row[0] + self.w1 * row[1] + self.intercept for row in X]\n",
    "    \n",
    "    def evaluate(self, X, Y):\n",
    "        # mean squared error\n",
    "        Y_pred = self.predict(X)\n",
    "        return sum([(Y_pred[i] - Y[i]) ** 2 for i in range(len(Y))]) / len(Y)\n",
    "        \n",
    "xx = [[el[0], el[1]] for el in trainInputs]\n",
    "regressor = ManualLinearBivariateRegression()\n",
    "regressor.fit(xx, trainOutputs)\n",
    "computedValidationOutputs = regressor.predict([[x[0], x[1]] for x in validationInputs])"
   ]
  },
  {
   "cell_type": "markdown",
   "metadata": {},
   "source": [
    "Results"
   ]
  },
  {
   "cell_type": "code",
   "execution_count": 15,
   "metadata": {},
   "outputs": [
    {
     "name": "stdout",
     "output_type": "stream",
     "text": [
      "Mean Squared Prediction error:  0.13847214842479852\n"
     ]
    }
   ],
   "source": [
    "\n",
    "error = 0.0\n",
    "for t1, t2 in zip(computedValidationOutputs, validationOutputs):\n",
    "    if t1 - t2 < 0.000001:\n",
    "        continue\n",
    "    error += (t1 - t2) ** 2\n",
    "error = error / len(validationOutputs)\n",
    "print(\"Mean Squared Prediction error: \", error)"
   ]
  }
 ],
 "metadata": {
  "kernelspec": {
   "display_name": "Python 3",
   "language": "python",
   "name": "python3"
  },
  "language_info": {
   "codemirror_mode": {
    "name": "ipython",
    "version": 3
   },
   "file_extension": ".py",
   "mimetype": "text/x-python",
   "name": "python",
   "nbconvert_exporter": "python",
   "pygments_lexer": "ipython3",
   "version": "3.12.2"
  }
 },
 "nbformat": 4,
 "nbformat_minor": 2
}
